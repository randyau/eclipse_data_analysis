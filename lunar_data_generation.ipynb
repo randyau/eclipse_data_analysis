{
 "cells": [
  {
   "cell_type": "markdown",
   "metadata": {},
   "source": [
    "## Lunar eclpise code"
   ]
  },
  {
   "cell_type": "code",
   "execution_count": 3,
   "metadata": {},
   "outputs": [],
   "source": [
    "# Setup stuff\n",
    "\n",
    "import csv\n",
    "from skyfield.api import load, Topos, wgs84, N, S, W, E\n",
    "from skyfield.positionlib import ICRF\n",
    "from skyfield import almanac\n",
    "\n",
    "# CONSTANTS -- CHANGE THESE\n",
    "# N,S,W,E are skyfield constants to put the negative sign for lat/Lon as needed\n",
    "#Default coordinates are for NYC\n",
    "LOC_NAME = 'nyc' #str constant for file naming\n",
    "MY_LAT = 40.7128 *N\n",
    "MY_LON = 74.0060 *W  \n",
    "MY_ELEV_M = 10 #in meters\n",
    "\n",
    "\n",
    "# We need the position of celestial bodies.. so we need to get ephemeerides from JPL =O\n",
    "# https://ssd.jpl.nasa.gov/?planet_eph_export\n",
    "# DE440 : Created June 2020; compared to DE430, about 7 years of new data have\n",
    "#        beend added.\n",
    "#        Referred to the International Celestial Reference Frame version 3.0.\n",
    "#        Covers JED 2287184.5, (1549 DEC 31) to JED 2688976.5, (2650 JAN 25).\n",
    "\n",
    "# DE441 : Created June 2020; compared to DE431, about 7 years of new data have \n",
    "#        been added.\n",
    "#        Referred to the International Celestial Reference Frame version 3.0.\n",
    "#        Covers JED -3100015.5, (-13200 AUG 15) to JED 8000016.50, (17191 MAR 15).\n",
    "\n",
    "#        DE440 and DE441 are documented in the following document:\n",
    "#        https://doi.org/10.3847/1538-3881/abd414\n",
    "#        (NOTE: this paper has been accepted for publication in December, 2020;\n",
    "#         this link will become available sometime in January)\n",
    "        \n",
    "# https://rhodesmill.org/skyfield/planets.html#popular-ephemerides\n",
    "# de422.bsp is only 17mb and goes from 1900-2050 (issued 2008-02) 150yr\n",
    "# de430t.bsp is 128mb covering 1550-2650 (issued 2010-02) 1100yr\n",
    "# de440t.bst is an updated version of de430t w/ 7 years more data\n",
    "\n",
    "eph = load('de440t.bsp')\n",
    "ts = load.timescale()\n",
    "#switch to gregorian calendar from julian at calendar switch date\n",
    "from skyfield.api import GREGORIAN_START \n",
    "ts.julian_calendar_cutoff = GREGORIAN_START \n"
   ]
  },
  {
   "cell_type": "code",
   "execution_count": 4,
   "metadata": {},
   "outputs": [
    {
     "name": "stdout",
     "output_type": "stream",
     "text": [
      "CPU times: user 1e+03 ns, sys: 1e+03 ns, total: 2 µs\n",
      "Wall time: 4.53 µs\n"
     ]
    }
   ],
   "source": [
    "%time\n",
    "# Find Lunar eclipses https://rhodesmill.org/skyfield/almanac.html#lunar-eclipses\n",
    "from skyfield import eclipselib\n",
    "\n",
    "earth = eph['earth']\n",
    "sun = eph['sun']\n",
    "moon = eph['moon']\n",
    "\n",
    "# NYC lat/lon\n",
    "place = earth + wgs84.latlon(MY_LAT, MY_LON, elevation_m=MY_ELEV_M)\n",
    "\n",
    "t0 = ts.ut1(1550, 1, 1) \n",
    "t1 = ts.ut1(2640, 1, 1)\n",
    "t, y, details = eclipselib.lunar_eclipses(t0, t1, eph)\n",
    "\n",
    "# eclipselib.lunar_eclipses:\n",
    "# * A :class:`~skyfield.timelib.Time` giving the dates of each eclipse.\n",
    "# * An integer array of codes identifying how complete each eclipse is.\n",
    "# * A dictionary of further supplementary details about each eclipse.\n",
    "\n",
    "heading = ('visibility','altitude','date','TDB','eclipse_type')\n",
    "lunar_data = []\n",
    "\n",
    "writer = csv.writer(open(LOC_NAME+\"_lunar_complete.csv\",'w'))\n",
    "writer.writerow(heading)\n",
    "for ti, yi in zip(t, y):\n",
    "  alt, az, distance = place.at(ti).observe(moon).apparent().altaz()\n",
    "  if alt.degrees > 0 :\n",
    "    vis = 'visible'\n",
    "  else:\n",
    "    vis = \"not_visible\"\n",
    "  row = (vis, \n",
    "         alt.degrees, \n",
    "         ti.utc_strftime('%Y-%m-%d'),\n",
    "         ti.tdb,\n",
    "         #'y={}'.format(yi),\n",
    "         eclipselib.LUNAR_ECLIPSES[yi])\n",
    "  lunar_data.append(row)\n",
    "  writer.writerow(row)\n",
    "\n"
   ]
  },
  {
   "cell_type": "code",
   "execution_count": null,
   "metadata": {},
   "outputs": [],
   "source": [
    "# Also make a version that only has 'visible' non-penumbra eclipses\n",
    "# This will be our actual data set\n",
    "writer = csv.writer(open(LOC_NAME+\"_lunar_observed.csv\",'w'))\n",
    "writer.writerow(heading)\n",
    "\n",
    "for ti, yi in zip(t, y):\n",
    "  alt, az, distance = place.at(ti).observe(moon).apparent().altaz()\n",
    "  if alt.degrees > 0 :\n",
    "    vis = 'visible'\n",
    "  else:\n",
    "    vis = \"not_visible\"\n",
    "    \n",
    "  row = (vis, \n",
    "         alt.degrees, \n",
    "         ti.utc_strftime('%Y-%m-%d'),\n",
    "         ti.tdb,\n",
    "         #'y={}'.format(yi),\n",
    "         eclipselib.LUNAR_ECLIPSES[yi])\n",
    "  if eclipselib.LUNAR_ECLIPSES[yi] != 'Penumbral' \\\n",
    "    and vis == 'visible':\n",
    "      writer.writerow(row)\n"
   ]
  },
  {
   "cell_type": "code",
   "execution_count": 6,
   "metadata": {},
   "outputs": [
    {
     "name": "stdout",
     "output_type": "stream",
     "text": [
      "CPU times: user 1e+03 ns, sys: 0 ns, total: 1e+03 ns\n",
      "Wall time: 3.81 µs\n"
     ]
    }
   ],
   "source": [
    "%time\n",
    "#Moon phase dataset\n",
    "writer = csv.writer(open(LOC_NAME+\"_full_moons.csv\",'w'))\n",
    "writer.writerow(('full_moon_date','moontype'))\n",
    "t_ph, y_ph = almanac.find_discrete(t0, t1, almanac.moon_phases(eph))\n",
    "for ti_ph, yi_ph in zip(t_ph, y_ph):\n",
    "    if yi_ph != 2: \n",
    "        continue # full moons only\n",
    "    \n",
    "    row = (\n",
    "    ti_ph.utc_strftime('%Y-%m-%d'),\n",
    "        almanac.MOON_PHASES[yi_ph]\n",
    "    )\n",
    "    writer.writerow(row)"
   ]
  },
  {
   "cell_type": "code",
   "execution_count": 7,
   "metadata": {},
   "outputs": [
    {
     "data": {
      "text/plain": [
       "array([2, 3, 0, 1, 2])"
      ]
     },
     "execution_count": 7,
     "metadata": {},
     "output_type": "execute_result"
    }
   ],
   "source": [
    "y_ph[:5]"
   ]
  },
  {
   "cell_type": "code",
   "execution_count": 22,
   "metadata": {},
   "outputs": [],
   "source": [
    "import pandas as pd\n",
    "df = pd.DataFrame.from_records(lunar_data,columns=heading)"
   ]
  },
  {
   "cell_type": "code",
   "execution_count": 25,
   "metadata": {},
   "outputs": [
    {
     "data": {
      "text/html": [
       "<div>\n",
       "<style scoped>\n",
       "    .dataframe tbody tr th:only-of-type {\n",
       "        vertical-align: middle;\n",
       "    }\n",
       "\n",
       "    .dataframe tbody tr th {\n",
       "        vertical-align: top;\n",
       "    }\n",
       "\n",
       "    .dataframe thead th {\n",
       "        text-align: right;\n",
       "    }\n",
       "</style>\n",
       "<table border=\"1\" class=\"dataframe\">\n",
       "  <thead>\n",
       "    <tr style=\"text-align: right;\">\n",
       "      <th></th>\n",
       "      <th>visibility</th>\n",
       "      <th>altitude</th>\n",
       "      <th>date</th>\n",
       "      <th>eclipse_type</th>\n",
       "    </tr>\n",
       "  </thead>\n",
       "  <tbody>\n",
       "    <tr>\n",
       "      <th>0</th>\n",
       "      <td>visible</td>\n",
       "      <td>45.060597</td>\n",
       "      <td>1550-03-03</td>\n",
       "      <td>Penumbral</td>\n",
       "    </tr>\n",
       "    <tr>\n",
       "      <th>1</th>\n",
       "      <td>not_visible</td>\n",
       "      <td>-26.531747</td>\n",
       "      <td>1550-04-01</td>\n",
       "      <td>Penumbral</td>\n",
       "    </tr>\n",
       "    <tr>\n",
       "      <th>2</th>\n",
       "      <td>visible</td>\n",
       "      <td>42.774474</td>\n",
       "      <td>1550-08-27</td>\n",
       "      <td>Penumbral</td>\n",
       "    </tr>\n",
       "    <tr>\n",
       "      <th>3</th>\n",
       "      <td>not_visible</td>\n",
       "      <td>-31.804474</td>\n",
       "      <td>1551-02-20</td>\n",
       "      <td>Total</td>\n",
       "    </tr>\n",
       "    <tr>\n",
       "      <th>4</th>\n",
       "      <td>visible</td>\n",
       "      <td>35.646395</td>\n",
       "      <td>1551-08-16</td>\n",
       "      <td>Partial</td>\n",
       "    </tr>\n",
       "    <tr>\n",
       "      <th>...</th>\n",
       "      <td>...</td>\n",
       "      <td>...</td>\n",
       "      <td>...</td>\n",
       "      <td>...</td>\n",
       "    </tr>\n",
       "    <tr>\n",
       "      <th>2646</th>\n",
       "      <td>not_visible</td>\n",
       "      <td>-14.270010</td>\n",
       "      <td>2637-10-25</td>\n",
       "      <td>Total</td>\n",
       "    </tr>\n",
       "    <tr>\n",
       "      <th>2647</th>\n",
       "      <td>not_visible</td>\n",
       "      <td>-45.793073</td>\n",
       "      <td>2638-04-20</td>\n",
       "      <td>Partial</td>\n",
       "    </tr>\n",
       "    <tr>\n",
       "      <th>2648</th>\n",
       "      <td>visible</td>\n",
       "      <td>52.948904</td>\n",
       "      <td>2638-10-15</td>\n",
       "      <td>Penumbral</td>\n",
       "    </tr>\n",
       "    <tr>\n",
       "      <th>2649</th>\n",
       "      <td>not_visible</td>\n",
       "      <td>-37.515163</td>\n",
       "      <td>2639-03-11</td>\n",
       "      <td>Partial</td>\n",
       "    </tr>\n",
       "    <tr>\n",
       "      <th>2650</th>\n",
       "      <td>not_visible</td>\n",
       "      <td>-18.233663</td>\n",
       "      <td>2639-09-04</td>\n",
       "      <td>Penumbral</td>\n",
       "    </tr>\n",
       "  </tbody>\n",
       "</table>\n",
       "<p>2651 rows × 4 columns</p>\n",
       "</div>"
      ],
      "text/plain": [
       "       visibility   altitude        date eclipse_type\n",
       "0         visible  45.060597  1550-03-03    Penumbral\n",
       "1     not_visible -26.531747  1550-04-01    Penumbral\n",
       "2         visible  42.774474  1550-08-27    Penumbral\n",
       "3     not_visible -31.804474  1551-02-20        Total\n",
       "4         visible  35.646395  1551-08-16      Partial\n",
       "...           ...        ...         ...          ...\n",
       "2646  not_visible -14.270010  2637-10-25        Total\n",
       "2647  not_visible -45.793073  2638-04-20      Partial\n",
       "2648      visible  52.948904  2638-10-15    Penumbral\n",
       "2649  not_visible -37.515163  2639-03-11      Partial\n",
       "2650  not_visible -18.233663  2639-09-04    Penumbral\n",
       "\n",
       "[2651 rows x 4 columns]"
      ]
     },
     "execution_count": 25,
     "metadata": {},
     "output_type": "execute_result"
    }
   ],
   "source": [
    "df"
   ]
  },
  {
   "cell_type": "code",
   "execution_count": 30,
   "metadata": {},
   "outputs": [
    {
     "data": {
      "text/plain": [
       "visibility   eclipse_type\n",
       "not_visible  Partial         460\n",
       "             Penumbral       498\n",
       "             Total           389\n",
       "visible      Partial         447\n",
       "             Penumbral       480\n",
       "             Total           377\n",
       "Name: date, dtype: int64"
      ]
     },
     "execution_count": 30,
     "metadata": {},
     "output_type": "execute_result"
    }
   ],
   "source": [
    "#Spot check the balance of visible vs not visible eclipses byt type\n",
    "df.groupby(['visibility','eclipse_type']).count()['date']"
   ]
  },
  {
   "cell_type": "code",
   "execution_count": 35,
   "metadata": {},
   "outputs": [
    {
     "name": "stdout",
     "output_type": "stream",
     "text": [
      "36.697766317211496\n"
     ]
    }
   ],
   "source": []
  }
 ],
 "metadata": {
  "kernelspec": {
   "display_name": "Python 3",
   "language": "python",
   "name": "python3"
  },
  "language_info": {
   "codemirror_mode": {
    "name": "ipython",
    "version": 3
   },
   "file_extension": ".py",
   "mimetype": "text/x-python",
   "name": "python",
   "nbconvert_exporter": "python",
   "pygments_lexer": "ipython3",
   "version": "3.7.3"
  }
 },
 "nbformat": 4,
 "nbformat_minor": 4
}
